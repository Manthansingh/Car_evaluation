{
 "cells": [
  {
   "cell_type": "code",
   "execution_count": 1,
   "metadata": {
    "colab": {},
    "colab_type": "code",
    "id": "OuW8plAJb50A",
    "outputId": "2c4bbbd7-7180-4b66-f182-8a6f2c79d96a",
    "scrolled": true
   },
   "outputs": [
    {
     "name": "stdout",
     "output_type": "stream",
     "text": [
      "(1728, 7)\n",
      "(1728, 6)\n"
     ]
    }
   ],
   "source": [
    "import pandas\n",
    "import numpy as np\n",
    "np.set_printoptions(threshold=np.nan)\n",
    "data=pandas.read_csv('car_evaluation.csv',names=['buying','maint','doors','persons','lug_boot','safety','decision']) \n",
    "data.doors[data.doors=='5more']='5'\n",
    "data.persons[data.persons=='more']='5'\n",
    "print(data.shape)\n",
    "#data=data.values\n",
    "X=data.iloc[:, :6].values #x means input \n",
    "Y=data.iloc[:, 6].values  #y means output\n",
    "print(X.shape)"
   ]
  },
  {
   "cell_type": "code",
   "execution_count": 2,
   "metadata": {
    "colab": {},
    "colab_type": "code",
    "id": "G-dlhw4kb50H",
    "outputId": "7d57ea2a-e0bc-496c-d2d0-11aa5cbbfa32"
   },
   "outputs": [
    {
     "name": "stdout",
     "output_type": "stream",
     "text": [
      "(1728, 16)\n",
      "(1728,)\n"
     ]
    }
   ],
   "source": [
    "#preprocessing the dataset \n",
    "from sklearn.preprocessing import LabelEncoder,OneHotEncoder\n",
    "lblencoder_X=LabelEncoder()\n",
    "#encoding the categorical data\n",
    "for i in [0,1,4,5]:\n",
    "    X[:, i]=lblencoder_X.fit_transform(X[:, i])\n",
    "#adding the dummy variables int the dataset\n",
    "onehotencoder =OneHotEncoder(categorical_features=[0,1,4,5])\n",
    "X=onehotencoder.fit_transform(X).toarray()\n",
    "print(X.shape)\n",
    "lblencoder_Y=LabelEncoder()\n",
    "Y= lblencoder_X.fit_transform(Y)\n",
    "print(Y.shape)"
   ]
  },
  {
   "cell_type": "code",
   "execution_count": 5,
   "metadata": {
    "colab": {},
    "colab_type": "code",
    "id": "bm0cW5YRb50K",
    "outputId": "5ee0bfc7-bfea-4b44-c84d-c543b2e5cd8b"
   },
   "outputs": [
    {
     "name": "stdout",
     "output_type": "stream",
     "text": [
      "(1296, 16) (432, 16) (1296,) (432,)\n"
     ]
    }
   ],
   "source": [
    "#spliting the datset in test and train data\n",
    "from sklearn.model_selection import train_test_split\n",
    "X_train,X_test,Y_train,Y_test=train_test_split(X,Y,test_size=0.25,random_state=0)\n",
    "# x_train=input for training datapoint ,Y_train = corresponding for training output\n",
    "print(X_train.shape,X_test.shape,Y_train.shape,Y_test.shape)"
   ]
  },
  {
   "cell_type": "code",
   "execution_count": 6,
   "metadata": {
    "colab": {},
    "colab_type": "code",
    "id": "YhHVJfxyb50N",
    "outputId": "8751ef66-e8ac-4e6d-b4c5-649e6d240819"
   },
   "outputs": [
    {
     "data": {
      "text/plain": [
       "KNeighborsClassifier(algorithm='auto', leaf_size=30, metric='minkowski',\n",
       "           metric_params=None, n_jobs=1, n_neighbors=5, p=2,\n",
       "           weights='uniform')"
      ]
     },
     "execution_count": 6,
     "metadata": {},
     "output_type": "execute_result"
    }
   ],
   "source": [
    "#Training the model using KNeighborsClassifier\n",
    "from sklearn.neighbors import KNeighborsClassifier\n",
    "clf=KNeighborsClassifier(n_neighbors=5,metric='minkowski',p=2)\n",
    "clf.fit(X_train,Y_train)"
   ]
  },
  {
   "cell_type": "code",
   "execution_count": 7,
   "metadata": {
    "colab": {},
    "colab_type": "code",
    "id": "QTInOp1lb50S",
    "outputId": "3cfefc72-c458-4604-8148-6fb3a3a35f36"
   },
   "outputs": [
    {
     "name": "stdout",
     "output_type": "stream",
     "text": [
      "0.9398148148148148\n"
     ]
    }
   ],
   "source": [
    "#predicting the test dataset\n",
    "Y_predict=clf.predict(X_test)\n",
    "from sklearn.metrics import accuracy_score\n",
    "cm=accuracy_score(Y_test,Y_predict)\n",
    "print(cm)"
   ]
  },
  {
   "cell_type": "code",
   "execution_count": 0,
   "metadata": {
    "colab": {},
    "colab_type": "code",
    "id": "9Urzj3shb50U"
   },
   "outputs": [],
   "source": []
  }
 ],
 "metadata": {
  "colab": {
   "name": "Untitled.ipynb",
   "provenance": [],
   "version": "0.3.2"
  },
  "kernelspec": {
   "display_name": "Python 3",
   "language": "python",
   "name": "python3"
  },
  "language_info": {
   "codemirror_mode": {
    "name": "ipython",
    "version": 3
   },
   "file_extension": ".py",
   "mimetype": "text/x-python",
   "name": "python",
   "nbconvert_exporter": "python",
   "pygments_lexer": "ipython3",
   "version": "3.6.5"
  }
 },
 "nbformat": 4,
 "nbformat_minor": 1
}
